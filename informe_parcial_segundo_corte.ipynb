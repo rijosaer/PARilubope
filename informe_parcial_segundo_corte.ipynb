{
 "cells": [
  {
   "cell_type": "markdown",
   "metadata": {},
   "source": [
    "# Informe de Análisis Estadístico\n",
    "\n",
    "## Archivo: ejemplar.csv\n",
    "\n",
    "Contenido: Este archivo contiene datos correspondientes al historico de ventas correspondiente a las fechas 22/09/2024 hasta 21/10/2024 del restaurante Jack's II Sede San Juan Del Cesar, La Guajira.\n",
    "\n",
    "Se analizó la cantidad de productos que se vendió segun\t su categoria y en base a eso se presentaron conclusiones.\n",
    "\n",
    "```python\n",
    "\n",
    "# Importamos las librerías necesarias para trabajar el programa\n",
    "import pandas as pd\n",
    "import numpy as np\n",
    "import matplotlib.pyplot as plt\n",
    "import tabulate\n",
    "\n",
    "# Leemos el archivo CSV, dado que poseia un error se reemplazo el error dado por el siguiente patrón: ï»¿ \n",
    "df = pd.read_csv('ejemplar.csv', encoding='utf-8') \n",
    "df.columns = df.columns.str.replace('ï»¿', '')\n",
    "\n",
    "# Mostramos las primeras filas del DataFrame\n",
    "print (df.head().to_markdown(index=False, stralign='left', numalign= 'right'))"
   ]
  },
  {
   "cell_type": "markdown",
   "metadata": {
    "vscode": {
     "languageId": "plaintext"
    }
   },
   "source": [
    "2. Seleccionamos la fila de total pagado y cantidad vendida para conocer el valor unitario de los productos.\n",
    "\n",
    "2.1 Se presenta la tabla con la información actualizada."
   ]
  },
  {
   "cell_type": "code",
   "execution_count": null,
   "metadata": {},
   "outputs": [],
   "source": [
    "# Crear la nueva columna \"Precio Unitario\"\n",
    "df['Precio Unitario'] = df['Total Pagado'] / df['Cantidad']\n",
    "\n",
    "# Reorganizamos las columnas para que \"Precio Unitario\" esté después de \"Categoria\"\n",
    "columnas = df.columns.tolist() \n",
    "idx = columnas.index('Categoria')  \n",
    "columnas.insert(idx + 1, columnas.pop(columnas.index('Precio Unitario')))  \n",
    "df = df[columnas] \n",
    "\n",
    "# Verifica los primeros resultados para asegurarte de que la columna fue agregada correctamente\n",
    "print(df.head().to_markdown(index=False, stralign='left', numalign= 'right'))"
   ]
  },
  {
   "cell_type": "markdown",
   "metadata": {},
   "source": [
    "3. Se presentan los graficos de tendencias mas relevantes para el historico de datos."
   ]
  },
  {
   "cell_type": "code",
   "execution_count": null,
   "metadata": {},
   "outputs": [],
   "source": [
    "#Grafico de barras que relaciona los productos y sus totales vendidos\n",
    "Ventas = df.groupby('Nombre')['Cantidad'].sum()\n",
    "plt.figure(figsize=(14,3))\n",
    "plt.bar(Ventas.index, Ventas.values)\n",
    "plt.xlabel(\"Nombre de producto\")\n",
    "plt.ylabel(\"Total vendido\")\n",
    "plt.title(\"Historico de ventas mes septiembre-octubre\")\n",
    "plt.xticks(rotation=90)\n",
    "plt.show()\n",
    "\n",
    "#Grafico de lineas que relaciona el nombre de producto y la cantidad vendida\n",
    "Ventas1 = df.groupby('Nombre')['Total Pagado'].sum()\n",
    "plt.figure(figsize=(14,4))\n",
    "plt.plot(Ventas1.index, Ventas1.values, marker='o')\n",
    "plt.xlabel(\"Nombre de producto\")\n",
    "plt.ylabel(\"Cantidad Vendida\")\n",
    "plt.title(\"Historico producto-cantidad vendida mes septiembre-octubre\")\n",
    "plt.xticks(rotation=90)\n",
    "plt.show()\n",
    "\n"
   ]
  },
  {
   "cell_type": "markdown",
   "metadata": {},
   "source": [
    "4.Realizamos los calculos estadisticos pertinentes para presentar un análisis estructurado de la información"
   ]
  },
  {
   "cell_type": "code",
   "execution_count": null,
   "metadata": {},
   "outputs": [],
   "source": [
    "media = np.mean(df['Total Pagado'])\n",
    "mediana = np.median(df['Total Pagado'])\n",
    "desviacion = np.std(df['Total Pagado'])\n",
    "varianza = np.var(df['Total Pagado'])\n",
    "\n",
    "# Agrupamos \"Categoría\" y \"Cantidad\" para saber la moda por categoria\n",
    "producto_mas_vendido = df.loc[df.groupby('Categoria')['Cantidad'].idxmax()]\n",
    "\n"
   ]
  },
  {
   "cell_type": "markdown",
   "metadata": {},
   "source": [
    "5. Finalmente entregamos las concusiones "
   ]
  },
  {
   "cell_type": "code",
   "execution_count": null,
   "metadata": {},
   "outputs": [],
   "source": [
    "print(\"Podemos concluir del historico de ventas del mes de Jack'II Sede San Juan Lo siguiente:\")\n",
    "\n",
    "# 1. Los productos más vendidos en cada categoría\n",
    "print(\"Productos preferidos por los clientes en el mes de septiembre-octubre\")\n",
    "# Mostrar el resultado\n",
    "print(producto_mas_vendido[['Categoria', 'Nombre', 'Cantidad']].to_markdown(index=False, stralign='left', numalign= 'right'))\n",
    "\n",
    "# 2. La media, mediana y desviación estándar del historico de ventas\n",
    "print(f\"El promedio de ventas para el mes septiembre-octubre fue de: {media}\")\n",
    "print(f\"La mediana de ventas para el mes septiembre-octubre fue de: {mediana}\")\n",
    "print(f\"La desviación estándar es: {desviacion}\")\n",
    "print(f\"La varianza es: {varianza}\")"
   ]
  }
 ],
 "metadata": {
  "kernelspec": {
   "display_name": "base",
   "language": "python",
   "name": "python3"
  },
  "language_info": {
   "codemirror_mode": {
    "name": "ipython",
    "version": 3
   },
   "file_extension": ".py",
   "mimetype": "text/x-python",
   "name": "python",
   "nbconvert_exporter": "python",
   "pygments_lexer": "ipython3",
   "version": "3.12.4"
  }
 },
 "nbformat": 4,
 "nbformat_minor": 2
}
